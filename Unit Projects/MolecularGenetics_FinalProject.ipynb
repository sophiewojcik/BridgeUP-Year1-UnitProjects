{
 "cells": [
  {
   "cell_type": "markdown",
   "metadata": {},
   "source": [
    "# Unit 3 Final Projects: Calculating evolutionary distance\n",
    "\n",
    "In this notebook you will compare the sequence of a particular gene from 3 different species to find out which two are most closely related. \n",
    "\n",
    "You will need to do the following:\n",
    "1. Open and read in your files\n",
    "2. Decide which sequences to compare (DNA, RNA, or protein)\n",
    "3. Write code that prints out the percent similarity of each pair of sequences"
   ]
  },
  {
   "cell_type": "code",
   "execution_count": 5,
   "metadata": {},
   "outputs": [],
   "source": [
    "zebraDNA = open(\"3a_CYTB_DNA.txt\").read()\n",
    "blackRhinoDNA = open(\"3b_CYTB_DNA.txt\").read()\n",
    "elephantDNA = open (\"3c_CYTB_DNA.txt\").read()"
   ]
  },
  {
   "cell_type": "code",
   "execution_count": 7,
   "metadata": {},
   "outputs": [
    {
     "name": "stdout",
     "output_type": "stream",
     "text": [
      "UACUGUUUGUAGGCUUUUAGGGUGGGCGAUUAAUUUUAGUAGUUAGUAAGAAAGUAGCUGGAUGGUCGGGGGAGUUUGUAGAGUAGUACUACUUUGAAACCGAGGGAGGAUCCUUAAACGGAUUAGGAGGUUUAGGAUUGUCCGGAUAAGGAUCGAUAUGUGAUGUGUAGUCUGUGUUGUUGACGGAAGAGUAGGCAGUGGGUGUAGACGGCUCUGCAAUUGAUGCCUACUUAGUAAGCGAUAGAGGUACGGUUGCCUCGUAGGUAUAAAAAGUAGACGGAGAAGUAGGUGCAUCCUGCACCGGAGAUGAUACCGAGAAUGUGUAAGGAUCUUUGUACUUUGUAACCUUAAUAGGAUGAAGAGUGUCAUUAUCGGUGUCGUAAGUAUCCGAUGCAGGAUGGUACUCCGGUUUAUAGGAAGACUCCUCGUUGUCAAUAAUGUUUAGAGGACAGUCGUUAAGGGAUGUAGCCGUGAUGGGAGCAGCUCACUUAGACUCCGCCUAAGAGCCAUCUGUUUCGGUGGGAGUGGGCUAAAAAACGGAAGGUGAAGUAGGAUGGUAAAUAGUAGUGUCGGGACCAUUAGCAGGUAAAUGAUAAGGAGGUGCUUUGUCCUAGGUUGUUGGGGAGUCCUUAAGGUAGACUGUAUCUGUUUUAGGGUAAAGUGGGUAUGAUGUGUUAAUUUCUAUAGGAUCCUGAGGAGGAGGAUUAGGAUGAGGAUGACUGGGAUCAUAAUAAGAGAGGACUGGAGGAUCCUCUGGGCCUGUUGAUAUGGGGUCGGUUGGGAGAGUCGUGAGGGGGAGUAUAAUUCGGUCUUACUAUAAAGGAUAAACGGAUGCGGUAGGAUGCGAGAUAAGGGUUGUUUGAUCCGCCGCAUAAUCGGGAAUAGGAAAGGUAGAAUUAGAAUCGUGAGUAGGGAUGAGAUGUAUGUAGUUUUGUUGCUUCGUAUUAUAAGGCUGGAGAGUCAGUUACGCACAAAACUGAGAAUCAUCGUCUGAAUGAUUGUGAUUGUACUUAGCCGCCGGUUGGUCACCUUGUGGGUAUGUAUUAAUAGCCGGUUGACCGAAGUUAGGAGAUGAAGAGGGAUUAAGAGUAGAAGUAUGGUGAGCGUUCGUGGUAACUUUUGUUGGAAAAUUUUACUUCU\n"
     ]
    }
   ],
   "source": [
    "zebraRNA = \"\"\n",
    "for base in zebraDNA:\n",
    "    if base == \"C\":\n",
    "        zebraRNA += \"G\"\n",
    "    elif base == \"G\":\n",
    "        zebraRNA += \"C\"\n",
    "    elif base == \"A\":\n",
    "        zebraRNA += \"U\"\n",
    "    elif base == \"T\":\n",
    "        zebraRNA += \"A\"\n",
    "print(zebraRNA)"
   ]
  },
  {
   "cell_type": "code",
   "execution_count": 8,
   "metadata": {},
   "outputs": [
    {
     "name": "stdout",
     "output_type": "stream",
     "text": [
      "UACUGAUUGUAGGCAUUUAGGGUGGGUGAUUAGUUUUAAUAGUUAGUGAGUAAGUAGCUGGAUGGGUGGGGUAGUUUGUAAAGUCGGACUACUUUAAAACCGAGAGAUGAUCCUUAGACGGAUUAGGAUGUUUAGGAUUGGCCUGAUAAAGAACGAUAUGUAAUAUGUGGUCUGUGUUGUUGACGGAAGAGUAGGCAACGGGUGUAGACAGCUCUCCAUUUGAUGCCGACUUAAUAGGCGAUGGAUGUACGUUUGCCUCGUAGGUAUAAAAAAUAGACGGAUAAGUAGGUGUAUCCUGCGCCGGAGAUAAUGCCUAGGAUGUGGAAGGAUUUUUGGACUUUGUAGCCUCAAUAAGAUGAUGAGUGUCAUUAUCGGUGUCGUAAGUAUCCGAUACAGGAUGGUACUCCGGUUUAUAGGAAAACUCCUCGUUGUCAGUAAUGUUUGGAUGAGAGUCGAUAGGGCAUAUAGCCGUGUUGAGAGCAUCUUACUUAGACUCCUCCCAAGAGGCAGCUGUUUCGGUGUGAAUGUGCUAAGAAGCGAAAGGUGAAAUAAGAGGGGAAAUAGUAGAGUCGGGAUCGUUAGUGGGUGGAUAAUAAGGAUGUGCUUUGUCCUAGGUUGUUGGGUAGUCCUUAGGGUAGGUUAUAUCUGUUUUAAGGUAAGGUGGGUAUGAUGUGUUAGUUUCUAUAGGAUCCUUAGGAUGAGGAUUAGGAUUGUGAUGAGUGGGAUCAGGAUAAGAGUGGGGUGGUAGAUCCUCUGGGACUGUUGAUGUGGGGGCGGUGGGGAGAGUUAUGGGGAGGUGUAUAGUUUGGUCUCACUAUAAAGAAUAAACGGAUACGUUAGGAUGCUAGGCAGGGAUUGUUUGAUCCGCCUCAUGAUCGGGAUCGUGAAAGGUAGGAUUAGGAUCGAGAAUAGGGGUAAGAGGUGUGUAGGUUUGUUGCUUCGUAUUAUAAGGCUGGGGAUUCGGUUACAUACAAGACUGAUGAUCAUCGGCUGAAUGAGUGUGAAUGUACUUAGCCUCCUGUUGGUCAGCUCGUGGGUAAGUAGUAAUAACCGGUUGAUCGUAGUUAGGAUAUAAAGAGGGAUUAGGAUCAUGAAUAUGGGGAACGUCCGUAAUAGCUUUUGUUGGAAGACUUUACUUCU\n"
     ]
    }
   ],
   "source": [
    "blackRhinoRNA = \"\"\n",
    "for base in blackRhinoDNA:\n",
    "    if base == \"C\":\n",
    "        blackRhinoRNA += \"G\"\n",
    "    elif base == \"G\":\n",
    "        blackRhinoRNA += \"C\"\n",
    "    elif base == \"A\":\n",
    "        blackRhinoRNA += \"U\"\n",
    "    elif base == \"T\":\n",
    "        blackRhinoRNA += \"A\"\n",
    "print(blackRhinoRNA)"
   ]
  },
  {
   "cell_type": "code",
   "execution_count": 9,
   "metadata": {
    "scrolled": true
   },
   "outputs": [
    {
     "name": "stdout",
     "output_type": "stream",
     "text": [
      "UACUGGCUGUAAGCUUUUAGAGUGGGGAAUGAAUUUUAGUAGUUAUUUAGGAAGUAACUAGAUGGAUGGGGUAGGUUGUAUAGUUGUACUACUUUAAAGCCGAGUGAUGAUCCUCGUACGGAUUAAUGUGUUUAGGAUUGUCCUAAUAAGGAUCGGUAUGUAAUAUGUGGGCUGUGUUAUUGACGUAAAAGUAGAUAUAGGGUAUAAACGGCUCUACAUUUGAUGCCGACUUAAUAAGCUGUUGAUGUGAGUUUGCCUCGUAGGUAAAAGAAGGAGACGGAUAUGUGUGUGUAACCUGCUUUGUAGAUGAUACCCAGGAUGGAUAUGAGCCUUUGAACUUUAUGGCCGUAAUAUAAUGAUGAUUAGUGGUAUCGGUGGCGGAAGUAUCCUAUACAGGAAGGCACUCCUGUUUAUAGUAAGACUCCCCGUUGGCAUUAGUGAUUGGAAGAGAGUCGUUAGGGAAUAUAGCCGUGUUUGGAUCAUCUUACUUAGACUCCUCCGAAAAGUCAUCUGUUUCGUUGGAAUUUAGCUAAAAAGCGGGAGGUAAAGUAAGAAGGUAAAUGAUAUUAACGUGAUCGUCCUCAUGUGGAUUGGAAAGAAGUGCUUUGUCCGAGUUUGUUAGGUGACCCGGAGUGAAGUCUGAGUCUGUUUUAGGGGAAAGUGGGUAUGAUAUGGUAAUUCCUGAAGGAUCCUAAUGAAUAGGAUUAAAAUGAAGAAGAUGAGGAUCGGGAUGAUAGAGGACUGGUAGAUCCUCUGGGACUGUUGAUGUGGGACCGGUUGGGGAAUUUAUUGGGGGGAGUAUAGUUCGGUCUCACUAUAAAAGAGAAACGAAUGCGGUAGGAUGCUAGACAUGGUUUGUUUGAUCCUCCGCAGGAUCGGGAUGAGGAUAGUUAAGAUUAGGAUCCUAAUUAUGGUGAAGAGGUAUGUAGGUUCGUGGCUUCGUAUUAUGAGGCUGGAGAAUCGGAUACACGGAUAACGACUUGAGAUUGUUAUCUAAAUGAUUGUGAAUGUACUUAACCGUCGGUUGGUCAUCUUAUAGGAAUGUAGUAAUAACCAGUUUAUCGGAGUUAAGAUAUAAAGAGGUAAUAGGAUCGGAAGGACGGUUAACGUCCUCAUUAGCUUUUGAUGGAGUAAUUCAUU\n"
     ]
    }
   ],
   "source": [
    "elephantRNA = \"\"\n",
    "for base in elephantDNA:\n",
    "    if base == \"C\":\n",
    "        elephantRNA += \"G\"\n",
    "    elif base == \"G\":\n",
    "        elephantRNA += \"C\"\n",
    "    elif base == \"A\":\n",
    "        elephantRNA += \"U\"\n",
    "    elif base == \"T\":\n",
    "        elephantRNA += \"A\"\n",
    "print(elephantRNA)"
   ]
  },
  {
   "cell_type": "code",
   "execution_count": 11,
   "metadata": {},
   "outputs": [
    {
     "name": "stdout",
     "output_type": "stream",
     "text": [
      "960\n",
      "84.21052631578948\n"
     ]
    }
   ],
   "source": [
    "sim_num = 0\n",
    "for index, AB in enumerate(blackRhinoRNA):\n",
    "    if zebraRNA[index] == AB:\n",
    "        sim_num += 1\n",
    "print(sim_num)\n",
    "ABpercent = ((sim_num) * 100)/ 1140\n",
    "print(ABpercent)"
   ]
  },
  {
   "cell_type": "code",
   "execution_count": 12,
   "metadata": {},
   "outputs": [
    {
     "name": "stdout",
     "output_type": "stream",
     "text": [
      "786\n",
      "68.94736842105263\n"
     ]
    }
   ],
   "source": [
    "sim_num = 0\n",
    "for index, AC in enumerate(zebraRNA):\n",
    "    if elephantRNA[index] == AC:\n",
    "        sim_num += 1\n",
    "print(sim_num)\n",
    "ACpercent = ((sim_num) * 100)/ 1140\n",
    "print(ACpercent)"
   ]
  },
  {
   "cell_type": "code",
   "execution_count": 13,
   "metadata": {},
   "outputs": [
    {
     "name": "stdout",
     "output_type": "stream",
     "text": [
      "791\n",
      "69.3859649122807\n"
     ]
    }
   ],
   "source": [
    "sim_num = 0\n",
    "for index, BC in enumerate(elephantRNA):\n",
    "    if blackRhinoRNA[index] == BC:\n",
    "        sim_num += 1\n",
    "print(sim_num)\n",
    "BCpercent = ((sim_num) * 100)/ 1140\n",
    "print(BCpercent)"
   ]
  },
  {
   "cell_type": "markdown",
   "metadata": {},
   "source": [
    "## Bonus Challenge\n",
    "\n",
    "Visualize your results! Choose a graph type that you think will communicate your conclusions effectively and create it using matplotlib:"
   ]
  },
  {
   "cell_type": "code",
   "execution_count": 14,
   "metadata": {},
   "outputs": [],
   "source": [
    "import matplotlib.pyplot as plt\n"
   ]
  },
  {
   "cell_type": "code",
   "execution_count": 15,
   "metadata": {},
   "outputs": [
    {
     "data": {
      "image/png": "[encoded data removed]",
      "text/plain": [
       "<Figure size 432x288 with 1 Axes>"
      ]
     },
     "metadata": {
      "needs_background": "light"
     },
     "output_type": "display_data"
    }
   ],
   "source": [
    "plt.bar([1,2,3],[ABpercent, ACpercent, BCpercent], color = [\"purple\", \"blue\",\"yellow\"])\n",
    "plt.title(\"Percent Similarity\")\n",
    "plt.xticks([1,2,3],[\"A to B\", \"A to C\", \"B to C\"])\n",
    "plt.show()"
   ]
  },
  {
   "cell_type": "markdown",
   "metadata": {},
   "source": [
    "## Bonus Challenge 2\n",
    "If you finish your project and want to try a challenge, come up with a hypothesis about which of the following species are most closely related to humans (carp, chicken, chimp, dog, eel, elephant, frog, gorilla, macaque monkey, mouse, orangutan, pig). Write out a ranked list with the species you think is most related to humans at the top.\n",
    "\n",
    "Then calculate the percent difference between the hemoglobin amino acid sequences of humans and each species to find out how close you came to the right ranking!"
   ]
  },
  {
   "cell_type": "code",
   "execution_count": null,
   "metadata": {
    "collapsed": true
   },
   "outputs": [],
   "source": []
  }
 ],
 "metadata": {
  "kernelspec": {
   "display_name": "Python 3",
   "language": "python",
   "name": "python3"
  },
  "language_info": {
   "codemirror_mode": {
    "name": "ipython",
    "version": 3
   },
   "file_extension": ".py",
   "mimetype": "text/x-python",
   "name": "python",
   "nbconvert_exporter": "python",
   "pygments_lexer": "ipython3",
   "version": "3.7.3"
  }
 },
 "nbformat": 4,
 "nbformat_minor": 2
}
